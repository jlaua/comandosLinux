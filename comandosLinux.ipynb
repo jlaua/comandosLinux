{
  "nbformat": 4,
  "nbformat_minor": 0,
  "metadata": {
    "colab": {
      "name": "comandosLinux.ipynb",
      "provenance": [],
      "collapsed_sections": [],
      "authorship_tag": "ABX9TyPgsBf8dfs4MrQ55Wo6C8pw",
      "include_colab_link": true
    },
    "kernelspec": {
      "name": "python3",
      "display_name": "Python 3"
    }
  },
  "cells": [
    {
      "cell_type": "markdown",
      "metadata": {
        "id": "view-in-github",
        "colab_type": "text"
      },
      "source": [
        "<a href=\"https://colab.research.google.com/github/jlaua/comandosLinux/blob/main/comandosLinux.ipynb\" target=\"_parent\"><img src=\"https://colab.research.google.com/assets/colab-badge.svg\" alt=\"Open In Colab\"/></a>"
      ]
    },
    {
      "cell_type": "markdown",
      "metadata": {
        "id": "hF32vevTzx51"
      },
      "source": [
        "01 - Comando para volver persistente el history en linux / mysql"
      ]
    },
    {
      "cell_type": "code",
      "metadata": {
        "id": "1SKxKKDxzwuD"
      },
      "source": [
        "\\option --persist history.autoSave=1"
      ],
      "execution_count": null,
      "outputs": []
    },
    {
      "cell_type": "markdown",
      "metadata": {
        "id": "r7IhmIPH0Onm"
      },
      "source": [
        "02 - revisar la ruta en donde estoy"
      ]
    },
    {
      "cell_type": "code",
      "metadata": {
        "id": "gpPc-RK-0PEE"
      },
      "source": [
        "pwd"
      ],
      "execution_count": null,
      "outputs": []
    },
    {
      "cell_type": "markdown",
      "metadata": {
        "id": "WcuE8Zp12ANX"
      },
      "source": [
        "listar archivos de una carpeta"
      ]
    },
    {
      "cell_type": "code",
      "metadata": {
        "id": "GBb6JL28547q"
      },
      "source": [
        "ls"
      ],
      "execution_count": null,
      "outputs": []
    },
    {
      "cell_type": "markdown",
      "metadata": {
        "id": "eQ8MAeiq9XIj"
      },
      "source": [
        "version de linux"
      ]
    },
    {
      "cell_type": "code",
      "metadata": {
        "colab": {
          "base_uri": "https://localhost:8080/"
        },
        "id": "9GZFj2Yc9YlB",
        "outputId": "d0318cde-f88c-4a06-a872-767c83f935b7"
      },
      "source": [
        "!uname -a"
      ],
      "execution_count": 16,
      "outputs": [
        {
          "output_type": "stream",
          "text": [
            "Linux 62151a1135d8 4.19.112+ #1 SMP Thu Jul 23 08:00:38 PDT 2020 x86_64 x86_64 x86_64 GNU/Linux\n"
          ],
          "name": "stdout"
        }
      ]
    }
  ]
}
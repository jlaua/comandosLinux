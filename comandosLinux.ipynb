{
  "nbformat": 4,
  "nbformat_minor": 0,
  "metadata": {
    "colab": {
      "name": "comandosLinux.ipynb",
      "provenance": [],
      "collapsed_sections": [],
      "authorship_tag": "ABX9TyO2QXiVdU3EVfPaOx1d63Sl",
      "include_colab_link": true
    },
    "kernelspec": {
      "name": "python3",
      "display_name": "Python 3"
    }
  },
  "cells": [
    {
      "cell_type": "markdown",
      "metadata": {
        "id": "view-in-github",
        "colab_type": "text"
      },
      "source": [
        "<a href=\"https://colab.research.google.com/github/jlaua/comandosLinux/blob/main/comandosLinux.ipynb\" target=\"_parent\"><img src=\"https://colab.research.google.com/assets/colab-badge.svg\" alt=\"Open In Colab\"/></a>"
      ]
    },
    {
      "cell_type": "markdown",
      "metadata": {
        "id": "hF32vevTzx51"
      },
      "source": [
        "01 - Comando para volver persistente el history en linux / mysql"
      ]
    },
    {
      "cell_type": "code",
      "metadata": {
        "id": "1SKxKKDxzwuD"
      },
      "source": [
        "\\option --persist history.autoSave=1"
      ],
      "execution_count": null,
      "outputs": []
    },
    {
      "cell_type": "markdown",
      "metadata": {
        "id": "r7IhmIPH0Onm"
      },
      "source": [
        "02 - revisar la ruta en donde estoy"
      ]
    },
    {
      "cell_type": "code",
      "metadata": {
        "id": "gpPc-RK-0PEE"
      },
      "source": [
        "pwd"
      ],
      "execution_count": null,
      "outputs": []
    },
    {
      "cell_type": "markdown",
      "metadata": {
        "id": "WcuE8Zp12ANX"
      },
      "source": [
        "listar archivos de una carpeta"
      ]
    },
    {
      "cell_type": "code",
      "metadata": {
        "id": "GBb6JL28547q"
      },
      "source": [
        "ls"
      ],
      "execution_count": null,
      "outputs": []
    }
  ]
}